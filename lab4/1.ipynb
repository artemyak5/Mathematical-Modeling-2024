{
 "cells": [
  {
   "cell_type": "markdown",
   "metadata": {},
   "source": [
    "<center style=\"font-size: 30px;\"><b>Лабораторна робота 4</center>\n",
    "<center style=\"font-size: 20px;\"><b>Аналіз та математичне моделювання COVID-19 за моделлю SIR</center>\n"
   ]
  },
  {
   "cell_type": "markdown",
   "metadata": {},
   "source": [
    "<ol>\n",
    "<li><b>Мета роботи</b><br><br>Навчитися працювати з наборами даних з платформи Kaggle на прикладі набору даних про Covid-19. Ознайомитись та навчитись використовувати модель SIR (математична модель для розуміння спалаху інфекційних захворювань). Навчитись аналізувати тренди змін захворюваності.\n",
    "</li><br>\n",
    "<li><b>Дані та приклади</b><br><br>За наведеним посиланням знаходяться приклади, де аналізується взаємозв’язок заходів проти COVID-19 та кількості інфікованих. Мета – проаналізувати хід захворюваності та спрогнозувати можливий стан захворюваності в країні, що може допомогти швидше врегулювати ситуацію.\n",
    "В приладі використана модель SIR-F, похідною від моделі SIR. Оцінка параметрів SIR-F застосована до підмножин даних часових рядів у кожній країні. Точки зміни параметрів визначаються аналізом тенденцій S-R. Подробиці пояснені в розділі «Метод».\n",
    "</li><br>\n",
    "<li><b>Завдання</b><br><br>Лабораторну роботу можна виконувати в Kaggle, Colaboratory, IPython Notebook (або будь якому іншому програмному забезпеченні).\n",
    "<ol>\n",
    "<li>Проаналізувати в яких країнах наразі відбувається спалах захворювань, а в яких відбувається затухання захворювань.</li>\n",
    "<li>Згідно уподобань з переліку обрати одну країну, в якій відбувається спалах, та одну країну, для якої відбувається затухання, та застосувати до неї модель SIR-F. (в даному випадку задача вибору країни є творчою, можна також орієнтуватися на їх географічне розташування, кількість населення тощо).\n",
    "</li>\n",
    "<li>Для обраних країн визначити параметри моделі (theta, kappa, rho, sigma, tau, …), вивести їх на графіку з плином часу.\n",
    "</li>\n",
    "<li>Спрогнозувати показники Infected, Fatal, Recovered  з використанням отриманих параметрів на 7, 30 та 300 днів.\n",
    "</li>\n",
    "<li>Визначити найближчий пік захворюваності (дата).\n",
    "</li>\n",
    "<li>Визначити коли в країні не залишиться хворих на Covid-2019.</li>\n",
    "<li>Порівняти отримані результати для обраних країн.\n",
    "</li>\n",
    "<li>Отримані результати оформити у вигляді звіту до лабораторної роботи.</li>\n",
    "</ol>\n",
    "</li>\n",
    "</ol>"
   ]
  },
  {
   "cell_type": "code",
   "execution_count": 18,
   "metadata": {},
   "outputs": [
    {
     "name": "stdout",
     "output_type": "stream",
     "text": [
      "Requirement already satisfied: covsirphy in d:\\programming\\anaconda\\lib\\site-packages (3.1.2)Note: you may need to restart the kernel to use updated packages.\n",
      "\n",
      "Requirement already satisfied: AutoTS<0.7.0,>=0.6.10 in d:\\programming\\anaconda\\lib\\site-packages (from covsirphy) (0.6.15)\n",
      "Requirement already satisfied: Unidecode<2.0.0,>=1.3.8 in d:\\programming\\anaconda\\lib\\site-packages (from covsirphy) (1.3.8)\n",
      "Requirement already satisfied: country-converter<2.0.0,>=1.2.0 in d:\\programming\\anaconda\\lib\\site-packages (from covsirphy) (1.2)\n",
      "Requirement already satisfied: geopandas<1.1.0,>=0.14.3 in d:\\programming\\anaconda\\lib\\site-packages (from covsirphy) (1.0.1)\n",
      "Requirement already satisfied: loguru<0.8.0,>=0.7.2 in d:\\programming\\anaconda\\lib\\site-packages (from covsirphy) (0.7.2)\n",
      "Requirement already satisfied: matplotlib<4.0.0,>=3.8.2 in d:\\programming\\anaconda\\lib\\site-packages (from covsirphy) (3.8.4)\n",
      "Requirement already satisfied: numpy<3.0.0,>=1.26.3 in d:\\programming\\anaconda\\lib\\site-packages (from covsirphy) (1.26.4)\n",
      "Requirement already satisfied: optuna<5.0,>=3.5 in d:\\programming\\anaconda\\lib\\site-packages (from covsirphy) (4.0.0)\n",
      "Requirement already satisfied: p-tqdm<2.0.0,>=1.4.0 in d:\\programming\\anaconda\\lib\\site-packages (from covsirphy) (1.4.2)\n",
      "Requirement already satisfied: pandas<3.0.0,>=2.2.0 in d:\\programming\\anaconda\\lib\\site-packages (from covsirphy) (2.2.2)\n",
      "Requirement already satisfied: pca<3.0.0,>=2.0.5 in d:\\programming\\anaconda\\lib\\site-packages (from covsirphy) (2.0.7)\n",
      "Requirement already satisfied: pyarrow<18,>=15 in d:\\programming\\anaconda\\lib\\site-packages (from covsirphy) (17.0.0)\n",
      "Requirement already satisfied: requests<3.0.0,>=2.31.0 in d:\\programming\\anaconda\\lib\\site-packages (from covsirphy) (2.32.2)\n",
      "Requirement already satisfied: ruptures<2.0.0,>=1.1.9 in d:\\programming\\anaconda\\lib\\site-packages (from covsirphy) (1.1.9)\n",
      "Requirement already satisfied: scipy<2.0.0,>=1.12.0 in d:\\programming\\anaconda\\lib\\site-packages (from covsirphy) (1.13.1)\n",
      "Requirement already satisfied: tabulate<0.10.0,>=0.9.0 in d:\\programming\\anaconda\\lib\\site-packages (from covsirphy) (0.9.0)\n",
      "Requirement already satisfied: typing-extensions<5.0.0,>=4.9.0 in d:\\programming\\anaconda\\lib\\site-packages (from covsirphy) (4.11.0)\n",
      "Requirement already satisfied: statsmodels>=0.10.0 in d:\\programming\\anaconda\\lib\\site-packages (from AutoTS<0.7.0,>=0.6.10->covsirphy) (0.14.2)\n",
      "Requirement already satisfied: scikit-learn>=0.20.0 in d:\\programming\\anaconda\\lib\\site-packages (from AutoTS<0.7.0,>=0.6.10->covsirphy) (1.4.2)\n",
      "Requirement already satisfied: pyogrio>=0.7.2 in d:\\programming\\anaconda\\lib\\site-packages (from geopandas<1.1.0,>=0.14.3->covsirphy) (0.9.0)\n",
      "Requirement already satisfied: packaging in c:\\users\\artem\\appdata\\roaming\\python\\python312\\site-packages (from geopandas<1.1.0,>=0.14.3->covsirphy) (24.1)\n",
      "Requirement already satisfied: pyproj>=3.3.0 in d:\\programming\\anaconda\\lib\\site-packages (from geopandas<1.1.0,>=0.14.3->covsirphy) (3.6.1)\n",
      "Requirement already satisfied: shapely>=2.0.0 in d:\\programming\\anaconda\\lib\\site-packages (from geopandas<1.1.0,>=0.14.3->covsirphy) (2.0.6)\n",
      "Requirement already satisfied: colorama>=0.3.4 in c:\\users\\artem\\appdata\\roaming\\python\\python312\\site-packages (from loguru<0.8.0,>=0.7.2->covsirphy) (0.4.6)\n",
      "Requirement already satisfied: win32-setctime>=1.0.0 in d:\\programming\\anaconda\\lib\\site-packages (from loguru<0.8.0,>=0.7.2->covsirphy) (1.1.0)\n",
      "Requirement already satisfied: contourpy>=1.0.1 in d:\\programming\\anaconda\\lib\\site-packages (from matplotlib<4.0.0,>=3.8.2->covsirphy) (1.2.0)\n",
      "Requirement already satisfied: cycler>=0.10 in d:\\programming\\anaconda\\lib\\site-packages (from matplotlib<4.0.0,>=3.8.2->covsirphy) (0.11.0)\n",
      "Requirement already satisfied: fonttools>=4.22.0 in d:\\programming\\anaconda\\lib\\site-packages (from matplotlib<4.0.0,>=3.8.2->covsirphy) (4.51.0)\n",
      "Requirement already satisfied: kiwisolver>=1.3.1 in d:\\programming\\anaconda\\lib\\site-packages (from matplotlib<4.0.0,>=3.8.2->covsirphy) (1.4.4)\n",
      "Requirement already satisfied: pillow>=8 in d:\\programming\\anaconda\\lib\\site-packages (from matplotlib<4.0.0,>=3.8.2->covsirphy) (10.3.0)\n",
      "Requirement already satisfied: pyparsing>=2.3.1 in d:\\programming\\anaconda\\lib\\site-packages (from matplotlib<4.0.0,>=3.8.2->covsirphy) (3.0.9)\n",
      "Requirement already satisfied: python-dateutil>=2.7 in c:\\users\\artem\\appdata\\roaming\\python\\python312\\site-packages (from matplotlib<4.0.0,>=3.8.2->covsirphy) (2.9.0.post0)\n",
      "Requirement already satisfied: alembic>=1.5.0 in d:\\programming\\anaconda\\lib\\site-packages (from optuna<5.0,>=3.5->covsirphy) (1.13.2)\n",
      "Requirement already satisfied: colorlog in d:\\programming\\anaconda\\lib\\site-packages (from optuna<5.0,>=3.5->covsirphy) (6.8.2)\n",
      "Requirement already satisfied: sqlalchemy>=1.3.0 in d:\\programming\\anaconda\\lib\\site-packages (from optuna<5.0,>=3.5->covsirphy) (2.0.30)\n",
      "Requirement already satisfied: tqdm in d:\\programming\\anaconda\\lib\\site-packages (from optuna<5.0,>=3.5->covsirphy) (4.66.4)\n",
      "Requirement already satisfied: PyYAML in d:\\programming\\anaconda\\lib\\site-packages (from optuna<5.0,>=3.5->covsirphy) (6.0.1)\n",
      "Requirement already satisfied: pathos>=0.2.5 in d:\\programming\\anaconda\\lib\\site-packages (from p-tqdm<2.0.0,>=1.4.0->covsirphy) (0.3.2)\n",
      "Requirement already satisfied: six>=1.13.0 in c:\\users\\artem\\appdata\\roaming\\python\\python312\\site-packages (from p-tqdm<2.0.0,>=1.4.0->covsirphy) (1.16.0)\n",
      "Requirement already satisfied: pytz>=2020.1 in d:\\programming\\anaconda\\lib\\site-packages (from pandas<3.0.0,>=2.2.0->covsirphy) (2024.1)\n",
      "Requirement already satisfied: tzdata>=2022.7 in d:\\programming\\anaconda\\lib\\site-packages (from pandas<3.0.0,>=2.2.0->covsirphy) (2023.3)\n",
      "Requirement already satisfied: datazets in d:\\programming\\anaconda\\lib\\site-packages (from pca<3.0.0,>=2.0.5->covsirphy) (0.1.9)\n",
      "Requirement already satisfied: colourmap>=1.1.15 in d:\\programming\\anaconda\\lib\\site-packages (from pca<3.0.0,>=2.0.5->covsirphy) (1.1.17)\n",
      "Requirement already satisfied: scatterd>=1.3.7 in d:\\programming\\anaconda\\lib\\site-packages (from pca<3.0.0,>=2.0.5->covsirphy) (1.3.7)\n",
      "Requirement already satisfied: adjusttext in d:\\programming\\anaconda\\lib\\site-packages (from pca<3.0.0,>=2.0.5->covsirphy) (1.2.0)\n",
      "Requirement already satisfied: charset-normalizer<4,>=2 in d:\\programming\\anaconda\\lib\\site-packages (from requests<3.0.0,>=2.31.0->covsirphy) (2.0.4)\n",
      "Requirement already satisfied: idna<4,>=2.5 in d:\\programming\\anaconda\\lib\\site-packages (from requests<3.0.0,>=2.31.0->covsirphy) (3.7)\n",
      "Requirement already satisfied: urllib3<3,>=1.21.1 in d:\\programming\\anaconda\\lib\\site-packages (from requests<3.0.0,>=2.31.0->covsirphy) (2.2.2)\n",
      "Requirement already satisfied: certifi>=2017.4.17 in d:\\programming\\anaconda\\lib\\site-packages (from requests<3.0.0,>=2.31.0->covsirphy) (2024.6.2)\n",
      "Requirement already satisfied: Mako in d:\\programming\\anaconda\\lib\\site-packages (from alembic>=1.5.0->optuna<5.0,>=3.5->covsirphy) (1.3.5)\n",
      "Requirement already satisfied: ppft>=1.7.6.8 in d:\\programming\\anaconda\\lib\\site-packages (from pathos>=0.2.5->p-tqdm<2.0.0,>=1.4.0->covsirphy) (1.7.6.8)\n",
      "Requirement already satisfied: dill>=0.3.8 in d:\\programming\\anaconda\\lib\\site-packages (from pathos>=0.2.5->p-tqdm<2.0.0,>=1.4.0->covsirphy) (0.3.8)\n",
      "Requirement already satisfied: pox>=0.3.4 in d:\\programming\\anaconda\\lib\\site-packages (from pathos>=0.2.5->p-tqdm<2.0.0,>=1.4.0->covsirphy) (0.3.4)\n",
      "Requirement already satisfied: multiprocess>=0.70.16 in d:\\programming\\anaconda\\lib\\site-packages (from pathos>=0.2.5->p-tqdm<2.0.0,>=1.4.0->covsirphy) (0.70.16)\n",
      "Requirement already satisfied: seaborn in d:\\programming\\anaconda\\lib\\site-packages (from scatterd>=1.3.7->pca<3.0.0,>=2.0.5->covsirphy) (0.13.2)\n",
      "Requirement already satisfied: joblib>=1.2.0 in d:\\programming\\anaconda\\lib\\site-packages (from scikit-learn>=0.20.0->AutoTS<0.7.0,>=0.6.10->covsirphy) (1.4.2)\n",
      "Requirement already satisfied: threadpoolctl>=2.0.0 in d:\\programming\\anaconda\\lib\\site-packages (from scikit-learn>=0.20.0->AutoTS<0.7.0,>=0.6.10->covsirphy) (2.2.0)\n",
      "Requirement already satisfied: greenlet!=0.4.17 in d:\\programming\\anaconda\\lib\\site-packages (from sqlalchemy>=1.3.0->optuna<5.0,>=3.5->covsirphy) (3.0.1)\n",
      "Requirement already satisfied: patsy>=0.5.6 in d:\\programming\\anaconda\\lib\\site-packages (from statsmodels>=0.10.0->AutoTS<0.7.0,>=0.6.10->covsirphy) (0.5.6)\n",
      "Requirement already satisfied: MarkupSafe>=0.9.2 in d:\\programming\\anaconda\\lib\\site-packages (from Mako->alembic>=1.5.0->optuna<5.0,>=3.5->covsirphy) (2.1.3)\n"
     ]
    }
   ],
   "source": [
    "pip install --upgrade covsirphy"
   ]
  }
 ],
 "metadata": {
  "kernelspec": {
   "display_name": "base",
   "language": "python",
   "name": "python3"
  },
  "language_info": {
   "codemirror_mode": {
    "name": "ipython",
    "version": 3
   },
   "file_extension": ".py",
   "mimetype": "text/x-python",
   "name": "python",
   "nbconvert_exporter": "python",
   "pygments_lexer": "ipython3",
   "version": "3.12.4"
  }
 },
 "nbformat": 4,
 "nbformat_minor": 2
}
