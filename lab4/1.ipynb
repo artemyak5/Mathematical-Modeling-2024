{
 "cells": [
  {
   "cell_type": "markdown",
   "metadata": {},
   "source": [
    "<center style=\"font-size: 30px;\"><b>Лабораторна робота 4</center>\n",
    "<center style=\"font-size: 20px;\"><b>Аналіз та математичне моделювання COVID-19 за моделлю SIR</center>\n"
   ]
  },
  {
   "cell_type": "markdown",
   "metadata": {},
   "source": [
    "<ol>\n",
    "<li><b>Мета роботи</b><br><br>Навчитися працювати з наборами даних з платформи Kaggle на прикладі набору даних про Covid-19. Ознайомитись та навчитись використовувати модель SIR (математична модель для розуміння спалаху інфекційних захворювань). Навчитись аналізувати тренди змін захворюваності.\n",
    "</li><br>\n",
    "<li><b>Дані та приклади</b><br><br>За наведеним посиланням знаходяться приклади, де аналізується взаємозв’язок заходів проти COVID-19 та кількості інфікованих. Мета – проаналізувати хід захворюваності та спрогнозувати можливий стан захворюваності в країні, що може допомогти швидше врегулювати ситуацію.\n",
    "В приладі використана модель SIR-F, похідною від моделі SIR. Оцінка параметрів SIR-F застосована до підмножин даних часових рядів у кожній країні. Точки зміни параметрів визначаються аналізом тенденцій S-R. Подробиці пояснені в розділі «Метод».\n",
    "</li><br>\n",
    "<li><b>Завдання</b><br><br>Лабораторну роботу можна виконувати в Kaggle, Colaboratory, IPython Notebook (або будь якому іншому програмному забезпеченні).\n",
    "<ol>\n",
    "<li>Проаналізувати в яких країнах наразі відбувається спалах захворювань, а в яких відбувається затухання захворювань.</li>\n",
    "<li>Згідно уподобань з переліку обрати одну країну, в якій відбувається спалах, та одну країну, для якої відбувається затухання, та застосувати до неї модель SIR-F. (в даному випадку задача вибору країни є творчою, можна також орієнтуватися на їх географічне розташування, кількість населення тощо).\n",
    "</li>\n",
    "<li>Для обраних країн визначити параметри моделі (theta, kappa, rho, sigma, tau, …), вивести їх на графіку з плином часу.\n",
    "</li>\n",
    "<li>Спрогнозувати показники Infected, Fatal, Recovered  з використанням отриманих параметрів на 7, 30 та 300 днів.\n",
    "</li>\n",
    "<li>Визначити найближчий пік захворюваності (дата).\n",
    "</li>\n",
    "<li>Визначити коли в країні не залишиться хворих на Covid-2019.</li>\n",
    "<li>Порівняти отримані результати для обраних країн.\n",
    "</li>\n",
    "<li>Отримані результати оформити у вигляді звіту до лабораторної роботи.</li>\n",
    "</ol>\n",
    "</li>\n",
    "</ol>"
   ]
  },
  {
   "cell_type": "code",
   "execution_count": null,
   "metadata": {},
   "outputs": [
    {
     "name": "stdout",
     "output_type": "stream",
     "text": [
      "Requirement already satisfied: covsirphy in d:\\programming\\anaconda\\lib\\site-packages (3.1.2)Note: you may need to restart the kernel to use updated packages.\n",
      "\n",
      "Requirement already satisfied: AutoTS<0.7.0,>=0.6.10 in d:\\programming\\anaconda\\lib\\site-packages (from covsirphy) (0.6.15)\n",
      "Requirement already satisfied: Unidecode<2.0.0,>=1.3.8 in d:\\programming\\anaconda\\lib\\site-packages (from covsirphy) (1.3.8)\n",
      "Requirement already satisfied: country-converter<2.0.0,>=1.2.0 in d:\\programming\\anaconda\\lib\\site-packages (from covsirphy) (1.2)\n",
      "Requirement already satisfied: geopandas<1.1.0,>=0.14.3 in d:\\programming\\anaconda\\lib\\site-packages (from covsirphy) (1.0.1)\n",
      "Requirement already satisfied: loguru<0.8.0,>=0.7.2 in d:\\programming\\anaconda\\lib\\site-packages (from covsirphy) (0.7.2)\n",
      "Requirement already satisfied: matplotlib<4.0.0,>=3.8.2 in d:\\programming\\anaconda\\lib\\site-packages (from covsirphy) (3.8.4)\n",
      "Requirement already satisfied: numpy<3.0.0,>=1.26.3 in d:\\programming\\anaconda\\lib\\site-packages (from covsirphy) (1.26.4)\n",
      "Requirement already satisfied: optuna<5.0,>=3.5 in d:\\programming\\anaconda\\lib\\site-packages (from covsirphy) (4.0.0)\n",
      "Requirement already satisfied: p-tqdm<2.0.0,>=1.4.0 in d:\\programming\\anaconda\\lib\\site-packages (from covsirphy) (1.4.2)\n",
      "Requirement already satisfied: pandas<3.0.0,>=2.2.0 in d:\\programming\\anaconda\\lib\\site-packages (from covsirphy) (2.2.2)\n",
      "Requirement already satisfied: pca<3.0.0,>=2.0.5 in d:\\programming\\anaconda\\lib\\site-packages (from covsirphy) (2.0.7)\n",
      "Requirement already satisfied: pyarrow<18,>=15 in d:\\programming\\anaconda\\lib\\site-packages (from covsirphy) (17.0.0)\n",
      "Requirement already satisfied: requests<3.0.0,>=2.31.0 in d:\\programming\\anaconda\\lib\\site-packages (from covsirphy) (2.32.2)\n",
      "Requirement already satisfied: ruptures<2.0.0,>=1.1.9 in d:\\programming\\anaconda\\lib\\site-packages (from covsirphy) (1.1.9)\n",
      "Requirement already satisfied: scipy<2.0.0,>=1.12.0 in d:\\programming\\anaconda\\lib\\site-packages (from covsirphy) (1.13.1)\n",
      "Requirement already satisfied: tabulate<0.10.0,>=0.9.0 in d:\\programming\\anaconda\\lib\\site-packages (from covsirphy) (0.9.0)\n",
      "Requirement already satisfied: typing-extensions<5.0.0,>=4.9.0 in d:\\programming\\anaconda\\lib\\site-packages (from covsirphy) (4.11.0)\n",
      "Requirement already satisfied: statsmodels>=0.10.0 in d:\\programming\\anaconda\\lib\\site-packages (from AutoTS<0.7.0,>=0.6.10->covsirphy) (0.14.2)\n",
      "Requirement already satisfied: scikit-learn>=0.20.0 in d:\\programming\\anaconda\\lib\\site-packages (from AutoTS<0.7.0,>=0.6.10->covsirphy) (1.4.2)\n",
      "Requirement already satisfied: pyogrio>=0.7.2 in d:\\programming\\anaconda\\lib\\site-packages (from geopandas<1.1.0,>=0.14.3->covsirphy) (0.9.0)\n",
      "Requirement already satisfied: packaging in c:\\users\\artem\\appdata\\roaming\\python\\python312\\site-packages (from geopandas<1.1.0,>=0.14.3->covsirphy) (24.1)\n",
      "Requirement already satisfied: pyproj>=3.3.0 in d:\\programming\\anaconda\\lib\\site-packages (from geopandas<1.1.0,>=0.14.3->covsirphy) (3.6.1)\n",
      "Requirement already satisfied: shapely>=2.0.0 in d:\\programming\\anaconda\\lib\\site-packages (from geopandas<1.1.0,>=0.14.3->covsirphy) (2.0.6)\n",
      "Requirement already satisfied: colorama>=0.3.4 in c:\\users\\artem\\appdata\\roaming\\python\\python312\\site-packages (from loguru<0.8.0,>=0.7.2->covsirphy) (0.4.6)\n",
      "Requirement already satisfied: win32-setctime>=1.0.0 in d:\\programming\\anaconda\\lib\\site-packages (from loguru<0.8.0,>=0.7.2->covsirphy) (1.1.0)\n",
      "Requirement already satisfied: contourpy>=1.0.1 in d:\\programming\\anaconda\\lib\\site-packages (from matplotlib<4.0.0,>=3.8.2->covsirphy) (1.2.0)\n",
      "Requirement already satisfied: cycler>=0.10 in d:\\programming\\anaconda\\lib\\site-packages (from matplotlib<4.0.0,>=3.8.2->covsirphy) (0.11.0)\n",
      "Requirement already satisfied: fonttools>=4.22.0 in d:\\programming\\anaconda\\lib\\site-packages (from matplotlib<4.0.0,>=3.8.2->covsirphy) (4.51.0)\n",
      "Requirement already satisfied: kiwisolver>=1.3.1 in d:\\programming\\anaconda\\lib\\site-packages (from matplotlib<4.0.0,>=3.8.2->covsirphy) (1.4.4)\n",
      "Requirement already satisfied: pillow>=8 in d:\\programming\\anaconda\\lib\\site-packages (from matplotlib<4.0.0,>=3.8.2->covsirphy) (10.3.0)\n",
      "Requirement already satisfied: pyparsing>=2.3.1 in d:\\programming\\anaconda\\lib\\site-packages (from matplotlib<4.0.0,>=3.8.2->covsirphy) (3.0.9)\n",
      "Requirement already satisfied: python-dateutil>=2.7 in c:\\users\\artem\\appdata\\roaming\\python\\python312\\site-packages (from matplotlib<4.0.0,>=3.8.2->covsirphy) (2.9.0.post0)\n",
      "Requirement already satisfied: alembic>=1.5.0 in d:\\programming\\anaconda\\lib\\site-packages (from optuna<5.0,>=3.5->covsirphy) (1.13.2)\n",
      "Requirement already satisfied: colorlog in d:\\programming\\anaconda\\lib\\site-packages (from optuna<5.0,>=3.5->covsirphy) (6.8.2)\n",
      "Requirement already satisfied: sqlalchemy>=1.3.0 in d:\\programming\\anaconda\\lib\\site-packages (from optuna<5.0,>=3.5->covsirphy) (2.0.30)\n",
      "Requirement already satisfied: tqdm in d:\\programming\\anaconda\\lib\\site-packages (from optuna<5.0,>=3.5->covsirphy) (4.66.4)\n",
      "Requirement already satisfied: PyYAML in d:\\programming\\anaconda\\lib\\site-packages (from optuna<5.0,>=3.5->covsirphy) (6.0.1)\n",
      "Requirement already satisfied: pathos>=0.2.5 in d:\\programming\\anaconda\\lib\\site-packages (from p-tqdm<2.0.0,>=1.4.0->covsirphy) (0.3.2)\n",
      "Requirement already satisfied: six>=1.13.0 in c:\\users\\artem\\appdata\\roaming\\python\\python312\\site-packages (from p-tqdm<2.0.0,>=1.4.0->covsirphy) (1.16.0)\n",
      "Requirement already satisfied: pytz>=2020.1 in d:\\programming\\anaconda\\lib\\site-packages (from pandas<3.0.0,>=2.2.0->covsirphy) (2024.1)\n",
      "Requirement already satisfied: tzdata>=2022.7 in d:\\programming\\anaconda\\lib\\site-packages (from pandas<3.0.0,>=2.2.0->covsirphy) (2023.3)\n",
      "Requirement already satisfied: datazets in d:\\programming\\anaconda\\lib\\site-packages (from pca<3.0.0,>=2.0.5->covsirphy) (0.1.9)\n",
      "Requirement already satisfied: colourmap>=1.1.15 in d:\\programming\\anaconda\\lib\\site-packages (from pca<3.0.0,>=2.0.5->covsirphy) (1.1.17)\n",
      "Requirement already satisfied: scatterd>=1.3.7 in d:\\programming\\anaconda\\lib\\site-packages (from pca<3.0.0,>=2.0.5->covsirphy) (1.3.7)\n",
      "Requirement already satisfied: adjusttext in d:\\programming\\anaconda\\lib\\site-packages (from pca<3.0.0,>=2.0.5->covsirphy) (1.2.0)\n",
      "Requirement already satisfied: charset-normalizer<4,>=2 in d:\\programming\\anaconda\\lib\\site-packages (from requests<3.0.0,>=2.31.0->covsirphy) (2.0.4)\n",
      "Requirement already satisfied: idna<4,>=2.5 in d:\\programming\\anaconda\\lib\\site-packages (from requests<3.0.0,>=2.31.0->covsirphy) (3.7)\n",
      "Requirement already satisfied: urllib3<3,>=1.21.1 in d:\\programming\\anaconda\\lib\\site-packages (from requests<3.0.0,>=2.31.0->covsirphy) (2.2.2)\n",
      "Requirement already satisfied: certifi>=2017.4.17 in d:\\programming\\anaconda\\lib\\site-packages (from requests<3.0.0,>=2.31.0->covsirphy) (2024.6.2)\n",
      "Requirement already satisfied: Mako in d:\\programming\\anaconda\\lib\\site-packages (from alembic>=1.5.0->optuna<5.0,>=3.5->covsirphy) (1.3.5)\n",
      "Requirement already satisfied: ppft>=1.7.6.8 in d:\\programming\\anaconda\\lib\\site-packages (from pathos>=0.2.5->p-tqdm<2.0.0,>=1.4.0->covsirphy) (1.7.6.8)\n",
      "Requirement already satisfied: dill>=0.3.8 in d:\\programming\\anaconda\\lib\\site-packages (from pathos>=0.2.5->p-tqdm<2.0.0,>=1.4.0->covsirphy) (0.3.8)\n",
      "Requirement already satisfied: pox>=0.3.4 in d:\\programming\\anaconda\\lib\\site-packages (from pathos>=0.2.5->p-tqdm<2.0.0,>=1.4.0->covsirphy) (0.3.4)\n",
      "Requirement already satisfied: multiprocess>=0.70.16 in d:\\programming\\anaconda\\lib\\site-packages (from pathos>=0.2.5->p-tqdm<2.0.0,>=1.4.0->covsirphy) (0.70.16)\n",
      "Requirement already satisfied: seaborn in d:\\programming\\anaconda\\lib\\site-packages (from scatterd>=1.3.7->pca<3.0.0,>=2.0.5->covsirphy) (0.13.2)\n",
      "Requirement already satisfied: joblib>=1.2.0 in d:\\programming\\anaconda\\lib\\site-packages (from scikit-learn>=0.20.0->AutoTS<0.7.0,>=0.6.10->covsirphy) (1.4.2)\n",
      "Requirement already satisfied: threadpoolctl>=2.0.0 in d:\\programming\\anaconda\\lib\\site-packages (from scikit-learn>=0.20.0->AutoTS<0.7.0,>=0.6.10->covsirphy) (2.2.0)\n",
      "Requirement already satisfied: greenlet!=0.4.17 in d:\\programming\\anaconda\\lib\\site-packages (from sqlalchemy>=1.3.0->optuna<5.0,>=3.5->covsirphy) (3.0.1)\n",
      "Requirement already satisfied: patsy>=0.5.6 in d:\\programming\\anaconda\\lib\\site-packages (from statsmodels>=0.10.0->AutoTS<0.7.0,>=0.6.10->covsirphy) (0.5.6)\n",
      "Requirement already satisfied: MarkupSafe>=0.9.2 in d:\\programming\\anaconda\\lib\\site-packages (from Mako->alembic>=1.5.0->optuna<5.0,>=3.5->covsirphy) (2.1.3)\n"
     ]
    }
   ],
   "source": [
    "pip install --upgrade covsirphy"
   ]
  },
  {
   "cell_type": "code",
   "execution_count": 15,
   "metadata": {},
   "outputs": [],
   "source": [
    "import pandas as pd"
   ]
  },
  {
   "cell_type": "code",
   "execution_count": 16,
   "metadata": {},
   "outputs": [
    {
     "name": "stdout",
     "output_type": "stream",
     "text": [
      "  iso_code continent     location        date  total_cases  new_cases  \\\n",
      "0      AFG      Asia  Afghanistan  2020-01-05          0.0        0.0   \n",
      "1      AFG      Asia  Afghanistan  2020-01-06          0.0        0.0   \n",
      "2      AFG      Asia  Afghanistan  2020-01-07          0.0        0.0   \n",
      "3      AFG      Asia  Afghanistan  2020-01-08          0.0        0.0   \n",
      "4      AFG      Asia  Afghanistan  2020-01-09          0.0        0.0   \n",
      "\n",
      "   new_cases_smoothed  total_deaths  new_deaths  new_deaths_smoothed  ...  \\\n",
      "0                 NaN           0.0         0.0                  NaN  ...   \n",
      "1                 NaN           0.0         0.0                  NaN  ...   \n",
      "2                 NaN           0.0         0.0                  NaN  ...   \n",
      "3                 NaN           0.0         0.0                  NaN  ...   \n",
      "4                 NaN           0.0         0.0                  NaN  ...   \n",
      "\n",
      "   male_smokers  handwashing_facilities  hospital_beds_per_thousand  \\\n",
      "0           NaN                  37.746                         0.5   \n",
      "1           NaN                  37.746                         0.5   \n",
      "2           NaN                  37.746                         0.5   \n",
      "3           NaN                  37.746                         0.5   \n",
      "4           NaN                  37.746                         0.5   \n",
      "\n",
      "   life_expectancy  human_development_index  population  \\\n",
      "0            64.83                    0.511    41128772   \n",
      "1            64.83                    0.511    41128772   \n",
      "2            64.83                    0.511    41128772   \n",
      "3            64.83                    0.511    41128772   \n",
      "4            64.83                    0.511    41128772   \n",
      "\n",
      "   excess_mortality_cumulative_absolute  excess_mortality_cumulative  \\\n",
      "0                                   NaN                          NaN   \n",
      "1                                   NaN                          NaN   \n",
      "2                                   NaN                          NaN   \n",
      "3                                   NaN                          NaN   \n",
      "4                                   NaN                          NaN   \n",
      "\n",
      "   excess_mortality  excess_mortality_cumulative_per_million  \n",
      "0               NaN                                      NaN  \n",
      "1               NaN                                      NaN  \n",
      "2               NaN                                      NaN  \n",
      "3               NaN                                      NaN  \n",
      "4               NaN                                      NaN  \n",
      "\n",
      "[5 rows x 67 columns]\n"
     ]
    }
   ],
   "source": [
    "url = \"https://covid.ourworldindata.org/data/owid-covid-data.csv\"\n",
    "data = pd.read_csv(url)\n",
    "\n",
    "print(data.head())\n"
   ]
  },
  {
   "cell_type": "code",
   "execution_count": 18,
   "metadata": {},
   "outputs": [],
   "source": [
    "countries = [\"Ukraine\", \"Italy\"]  # Змініть на ваші країни\n",
    "selected_data = data[data[\"location\"].isin(countries)]"
   ]
  },
  {
   "cell_type": "code",
   "execution_count": 19,
   "metadata": {},
   "outputs": [
    {
     "name": "stdout",
     "output_type": "stream",
     "text": [
      "Дані для України:\n",
      "       iso_code continent location        date  total_cases  new_cases  \\\n",
      "400098      UKR    Europe  Ukraine  2024-07-31    5532606.0        0.0   \n",
      "400099      UKR    Europe  Ukraine  2024-08-01    5532606.0        0.0   \n",
      "400100      UKR    Europe  Ukraine  2024-08-02    5532606.0        0.0   \n",
      "400101      UKR    Europe  Ukraine  2024-08-03    5532606.0        0.0   \n",
      "400102      UKR    Europe  Ukraine  2024-08-04    5532777.0      171.0   \n",
      "\n",
      "        new_cases_smoothed  total_deaths  new_deaths  new_deaths_smoothed  \\\n",
      "400098              12.571      109920.0         0.0                  0.0   \n",
      "400099              12.571      109920.0         0.0                  0.0   \n",
      "400100              12.571      109920.0         0.0                  0.0   \n",
      "400101              12.571      109920.0         0.0                  0.0   \n",
      "400102              24.429      109920.0         0.0                  0.0   \n",
      "\n",
      "        ...  male_smokers  handwashing_facilities  hospital_beds_per_thousand  \\\n",
      "400098  ...          47.4                     NaN                         8.8   \n",
      "400099  ...          47.4                     NaN                         8.8   \n",
      "400100  ...          47.4                     NaN                         8.8   \n",
      "400101  ...          47.4                     NaN                         8.8   \n",
      "400102  ...          47.4                     NaN                         8.8   \n",
      "\n",
      "        life_expectancy  human_development_index  population  \\\n",
      "400098            72.06                    0.779    39701744   \n",
      "400099            72.06                    0.779    39701744   \n",
      "400100            72.06                    0.779    39701744   \n",
      "400101            72.06                    0.779    39701744   \n",
      "400102            72.06                    0.779    39701744   \n",
      "\n",
      "        excess_mortality_cumulative_absolute  excess_mortality_cumulative  \\\n",
      "400098                                   NaN                          NaN   \n",
      "400099                                   NaN                          NaN   \n",
      "400100                                   NaN                          NaN   \n",
      "400101                                   NaN                          NaN   \n",
      "400102                                   NaN                          NaN   \n",
      "\n",
      "        excess_mortality  excess_mortality_cumulative_per_million  \n",
      "400098               NaN                                      NaN  \n",
      "400099               NaN                                      NaN  \n",
      "400100               NaN                                      NaN  \n",
      "400101               NaN                                      NaN  \n",
      "400102               NaN                                      NaN  \n",
      "\n",
      "[5 rows x 67 columns]\n"
     ]
    }
   ],
   "source": [
    "ukraine_data = selected_data[selected_data[\"location\"] == \"Ukraine\"]\n",
    "\n",
    "print(\"Дані для України:\")\n",
    "print(ukraine_data.tail())\n"
   ]
  },
  {
   "cell_type": "code",
   "execution_count": 20,
   "metadata": {},
   "outputs": [
    {
     "name": "stdout",
     "output_type": "stream",
     "text": [
      "Дані для Італії:\n",
      "       iso_code continent location        date  total_cases  new_cases  \\\n",
      "186947      ITA    Europe    Italy  2024-08-03   26774728.0        0.0   \n",
      "186948      ITA    Europe    Italy  2024-08-04   26781078.0     6350.0   \n",
      "186949      ITA    Europe    Italy  2024-08-05          NaN        NaN   \n",
      "186950      ITA    Europe    Italy  2024-08-06          NaN        NaN   \n",
      "186951      ITA    Europe    Italy  2024-08-07          NaN        NaN   \n",
      "\n",
      "        new_cases_smoothed  total_deaths  new_deaths  new_deaths_smoothed  \\\n",
      "186947            2239.286      197301.0         0.0                4.857   \n",
      "186948             907.143      197307.0         6.0                0.857   \n",
      "186949                 NaN           NaN         NaN                  NaN   \n",
      "186950                 NaN           NaN         NaN                  NaN   \n",
      "186951                 NaN           NaN         NaN                  NaN   \n",
      "\n",
      "        ...  male_smokers  handwashing_facilities  hospital_beds_per_thousand  \\\n",
      "186947  ...          27.8                     NaN                        3.18   \n",
      "186948  ...          27.8                     NaN                        3.18   \n",
      "186949  ...          27.8                     NaN                        3.18   \n",
      "186950  ...          27.8                     NaN                        3.18   \n",
      "186951  ...          27.8                     NaN                        3.18   \n",
      "\n",
      "        life_expectancy  human_development_index  population  \\\n",
      "186947            83.51                    0.892    59037472   \n",
      "186948            83.51                    0.892    59037472   \n",
      "186949            83.51                    0.892    59037472   \n",
      "186950            83.51                    0.892    59037472   \n",
      "186951            83.51                    0.892    59037472   \n",
      "\n",
      "        excess_mortality_cumulative_absolute  excess_mortality_cumulative  \\\n",
      "186947                                   NaN                          NaN   \n",
      "186948                                   NaN                          NaN   \n",
      "186949                                   NaN                          NaN   \n",
      "186950                                   NaN                          NaN   \n",
      "186951                                   NaN                          NaN   \n",
      "\n",
      "        excess_mortality  excess_mortality_cumulative_per_million  \n",
      "186947               NaN                                      NaN  \n",
      "186948               NaN                                      NaN  \n",
      "186949               NaN                                      NaN  \n",
      "186950               NaN                                      NaN  \n",
      "186951               NaN                                      NaN  \n",
      "\n",
      "[5 rows x 67 columns]\n"
     ]
    }
   ],
   "source": [
    "italy_data = selected_data[selected_data[\"location\"] == \"Italy\"]\n",
    "\n",
    "print(\"Дані для Італії:\")\n",
    "print(italy_data.tail())"
   ]
  },
  {
   "cell_type": "code",
   "execution_count": null,
   "metadata": {},
   "outputs": [],
   "source": []
  }
 ],
 "metadata": {
  "kernelspec": {
   "display_name": "base",
   "language": "python",
   "name": "python3"
  },
  "language_info": {
   "codemirror_mode": {
    "name": "ipython",
    "version": 3
   },
   "file_extension": ".py",
   "mimetype": "text/x-python",
   "name": "python",
   "nbconvert_exporter": "python",
   "pygments_lexer": "ipython3",
   "version": "3.12.4"
  }
 },
 "nbformat": 4,
 "nbformat_minor": 2
}
