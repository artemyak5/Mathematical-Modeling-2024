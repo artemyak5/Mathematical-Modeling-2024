{
 "cells": [
  {
   "cell_type": "markdown",
   "metadata": {},
   "source": [
    "<center style=\"font-size: 30px;\">Lab3</center>"
   ]
  },
  {
   "cell_type": "code",
   "execution_count": 6,
   "metadata": {},
   "outputs": [],
   "source": [
    "import random\n",
    "import matplotlib.pyplot as plt"
   ]
  },
  {
   "cell_type": "code",
   "execution_count": 7,
   "metadata": {},
   "outputs": [],
   "source": [
    "vertices = [(0, 0), \n",
    "            (1, 4), \n",
    "            (4, 4), \n",
    "            (4, 0), \n",
    "            (3, 0), \n",
    "            (3, 2), \n",
    "            (1, 2), \n",
    "            (1, 0), \n",
    "            (0, 0)]\n"
   ]
  },
  {
   "cell_type": "code",
   "execution_count": 8,
   "metadata": {},
   "outputs": [
    {
     "data": {
      "image/png": "[encoded data removed]",
      "text/plain": [
       "<Figure size 640x480 with 1 Axes>"
      ]
     },
     "metadata": {},
     "output_type": "display_data"
    }
   ],
   "source": [
    "plt.figure()\n",
    "polygon = plt.Polygon(vertices, fill=None, edgecolor='r')\n",
    "plt.gca().add_patch(polygon)\n",
    "plt.xlim(min([v[0] for v in vertices]) - 1, max([v[0] for v in vertices]) + 1)\n",
    "plt.ylim(min([v[1] for v in vertices]) - 1, max([v[1] for v in vertices]) + 1)\n",
    "plt.gca().set_aspect('equal', adjustable='box')\n",
    "plt.show()"
   ]
  },
  {
   "cell_type": "code",
   "execution_count": 9,
   "metadata": {},
   "outputs": [],
   "source": [
    "def is_inside_polygon(x, y, vertices):\n",
    "    inside = False\n",
    "    for i in range(len(vertices) - 1):\n",
    "        x1, y1 = vertices[i]\n",
    "        x2, y2 = vertices[i + 1]\n",
    "        if (y1 > y) != (y2 > y) and x < (x2 - x1) * (y - y1) / (y2 - y1) + x1:\n",
    "            inside = not inside\n",
    "    return inside\n",
    "\n",
    "\n",
    "def monte_carlo_area(vertices, num_points):\n",
    "    x_min, x_max = min(v[0] for v in vertices), max(v[0] for v in vertices)\n",
    "    y_min, y_max = min(v[1] for v in vertices), max(v[1] for v in vertices)\n",
    "\n",
    "    count_inside = sum(is_inside_polygon(random.uniform(x_min, x_max), random.uniform(y_min, y_max), vertices) for _ in range(num_points))\n",
    "    return (x_max - x_min) * (y_max - y_min) * (count_inside / num_points)\n",
    "\n",
    "\n",
    "def exact_polygon_area(vertices):\n",
    "    return abs(sum(vertices[i][0] * vertices[i + 1][1] - vertices[i + 1][0] * vertices[i][1] for i in range(len(vertices) - 1))) / 2"
   ]
  },
  {
   "cell_type": "code",
   "execution_count": 18,
   "metadata": {},
   "outputs": [
    {
     "name": "stdout",
     "output_type": "stream",
     "text": [
      "Оцінена площа (метод Монте-Карло): 9.9504\n",
      "Точна площа фігури: 10.0\n"
     ]
    }
   ],
   "source": [
    "num_points = 10000\n",
    "monte_carlo_result = monte_carlo_area(vertices, num_points)\n",
    "exact_area = exact_polygon_area(vertices)\n",
    "\n",
    "print(f\"Оцінена площа (метод Монте-Карло): {monte_carlo_result}\")\n",
    "print(f\"Точна площа фігури: {exact_area}\")"
   ]
  }
 ],
 "metadata": {
  "kernelspec": {
   "display_name": "Python 3",
   "language": "python",
   "name": "python3"
  },
  "language_info": {
   "codemirror_mode": {
    "name": "ipython",
    "version": 3
   },
   "file_extension": ".py",
   "mimetype": "text/x-python",
   "name": "python",
   "nbconvert_exporter": "python",
   "pygments_lexer": "ipython3",
   "version": "3.12.4"
  }
 },
 "nbformat": 4,
 "nbformat_minor": 2
}
